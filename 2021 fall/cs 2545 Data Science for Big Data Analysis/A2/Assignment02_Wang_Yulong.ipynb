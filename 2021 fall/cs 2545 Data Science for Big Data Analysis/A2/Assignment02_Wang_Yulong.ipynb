{
 "cells": [
  {
   "cell_type": "markdown",
   "metadata": {},
   "source": [
    "# Assignment 2\n",
    "\n",
    "### CS2545 - Data Science ###\n",
    "### Fall, 2021 ###\n",
    "### UNB, Fredericton ###\n",
    "\n",
    "**Notebook:** Complete the assignment and submit the .ipynb file (with filename changed to **Assignment02_LastName_FirstName.ipynb**) to D2L. <br>\n",
    "<br>\n",
    "**Deadline:** 5:00 pm, December 9, 2021\n",
    "<br>\n",
    "<br>\n",
    "**Submission guidelines:** <br>\n",
    "•\tLate assignments will not be marked, except if alternate arrangements have been approved by the instructor. <br>\n",
    "•\tAssignment components that are required to be submitted electronically via D2L, and are not submitted via D2L, will not be marked. <br>\n",
    "\n",
    "**Note about plagiarism:** <br>\n",
    "Any assignments that appear to be in violation of an academic offence (plagiarism) will be reported to the Registrar’s Office as per UNB regulations (See section VII of UNB Undergraduate Calendar). <br>\n"
   ]
  },
  {
   "cell_type": "markdown",
   "metadata": {},
   "source": [
    "**Task and Dataset** \n",
    "\n",
    "For this assignment you will analyze Spotify datasets and perform music related analysis. You will find the following 3 files  in the datasets.zip file from D2L:\n",
    "\n",
    "- *artists.csv*\n",
    "- *albums.csv*\n",
    "- *tracks.csv*\n",
    "\n",
    "You may want to first open the files with a text editor and observe the files carefully, to get an idea about the fields in the data table. The meaning of each column label is self-explanatory."
   ]
  },
  {
   "cell_type": "code",
   "execution_count": 2,
   "metadata": {},
   "outputs": [],
   "source": [
    "import matplotlib.pyplot as plt\n",
    "import pandas as pd\n",
    "import numpy as np\n",
    "import math\n",
    "import thinkstats2\n",
    "import thinkplot\n",
    "%matplotlib inline\n"
   ]
  },
  {
   "cell_type": "markdown",
   "metadata": {},
   "source": [
    "**Q1** Load the 3 data files (mentioned above) as dataframes: *artists_df*, *albums_df* and *track_df* respectively. \n",
    "\n",
    "Then, show the first 5 records of the dataframes."
   ]
  },
  {
   "cell_type": "code",
   "execution_count": 3,
   "metadata": {},
   "outputs": [
    {
     "data": {
      "text/html": [
       "<div>\n",
       "<style scoped>\n",
       "    .dataframe tbody tr th:only-of-type {\n",
       "        vertical-align: middle;\n",
       "    }\n",
       "\n",
       "    .dataframe tbody tr th {\n",
       "        vertical-align: top;\n",
       "    }\n",
       "\n",
       "    .dataframe thead th {\n",
       "        text-align: right;\n",
       "    }\n",
       "</style>\n",
       "<table border=\"1\" class=\"dataframe\">\n",
       "  <thead>\n",
       "    <tr style=\"text-align: right;\">\n",
       "      <th></th>\n",
       "      <th>artist_id</th>\n",
       "      <th>artist_popularity</th>\n",
       "      <th>followers</th>\n",
       "      <th>genres</th>\n",
       "      <th>artist_name</th>\n",
       "    </tr>\n",
       "  </thead>\n",
       "  <tbody>\n",
       "    <tr>\n",
       "      <th>0</th>\n",
       "      <td>4mGnpjhqgx4RUdsIJiURdo</td>\n",
       "      <td>44</td>\n",
       "      <td>23230</td>\n",
       "      <td>['sertanejo', 'sertanejo pop', 'sertanejo trad...</td>\n",
       "      <td>Juliano Cezar</td>\n",
       "    </tr>\n",
       "    <tr>\n",
       "      <th>1</th>\n",
       "      <td>1dLnVku4VQUOLswwDFvRc9</td>\n",
       "      <td>22</td>\n",
       "      <td>313</td>\n",
       "      <td>[]</td>\n",
       "      <td>The Grenadines</td>\n",
       "    </tr>\n",
       "    <tr>\n",
       "      <th>2</th>\n",
       "      <td>6YVY310fjfUzKi8hiqR7iK</td>\n",
       "      <td>26</td>\n",
       "      <td>1596</td>\n",
       "      <td>['danish pop rock']</td>\n",
       "      <td>Gangway</td>\n",
       "    </tr>\n",
       "    <tr>\n",
       "      <th>3</th>\n",
       "      <td>2VElyouiCfoYPDJluzwJwK</td>\n",
       "      <td>31</td>\n",
       "      <td>149</td>\n",
       "      <td>['uk alternative pop']</td>\n",
       "      <td>FADES</td>\n",
       "    </tr>\n",
       "    <tr>\n",
       "      <th>4</th>\n",
       "      <td>4agVy03qW8juSysCTUOuDI</td>\n",
       "      <td>21</td>\n",
       "      <td>11</td>\n",
       "      <td>['french baroque']</td>\n",
       "      <td>Jean-Pierre Guignon</td>\n",
       "    </tr>\n",
       "  </tbody>\n",
       "</table>\n",
       "</div>"
      ],
      "text/plain": [
       "                artist_id  artist_popularity  followers  \\\n",
       "0  4mGnpjhqgx4RUdsIJiURdo                 44      23230   \n",
       "1  1dLnVku4VQUOLswwDFvRc9                 22        313   \n",
       "2  6YVY310fjfUzKi8hiqR7iK                 26       1596   \n",
       "3  2VElyouiCfoYPDJluzwJwK                 31        149   \n",
       "4  4agVy03qW8juSysCTUOuDI                 21         11   \n",
       "\n",
       "                                              genres          artist_name  \n",
       "0  ['sertanejo', 'sertanejo pop', 'sertanejo trad...        Juliano Cezar  \n",
       "1                                                 []       The Grenadines  \n",
       "2                                ['danish pop rock']              Gangway  \n",
       "3                             ['uk alternative pop']                FADES  \n",
       "4                                 ['french baroque']  Jean-Pierre Guignon  "
      ]
     },
     "execution_count": 3,
     "metadata": {},
     "output_type": "execute_result"
    }
   ],
   "source": [
    "# load artists_df  dataframe\n",
    "\n",
    "artists_df = pd.read_csv('artists.csv')\n",
    "artists_df.head()\n"
   ]
  },
  {
   "cell_type": "code",
   "execution_count": 4,
   "metadata": {},
   "outputs": [
    {
     "data": {
      "text/html": [
       "<div>\n",
       "<style scoped>\n",
       "    .dataframe tbody tr th:only-of-type {\n",
       "        vertical-align: middle;\n",
       "    }\n",
       "\n",
       "    .dataframe tbody tr th {\n",
       "        vertical-align: top;\n",
       "    }\n",
       "\n",
       "    .dataframe thead th {\n",
       "        text-align: right;\n",
       "    }\n",
       "</style>\n",
       "<table border=\"1\" class=\"dataframe\">\n",
       "  <thead>\n",
       "    <tr style=\"text-align: right;\">\n",
       "      <th></th>\n",
       "      <th>album_id</th>\n",
       "      <th>album_type</th>\n",
       "      <th>artist_id</th>\n",
       "      <th>album_name</th>\n",
       "      <th>release_date</th>\n",
       "      <th>release_date_precision</th>\n",
       "      <th>total_tracks</th>\n",
       "    </tr>\n",
       "  </thead>\n",
       "  <tbody>\n",
       "    <tr>\n",
       "      <th>0</th>\n",
       "      <td>1gAM7M4rBwEbSPeAQR2nx1</td>\n",
       "      <td>single</td>\n",
       "      <td>3DiDSECUqqY1AuBP8qtaIa</td>\n",
       "      <td>If I Ain't Got You EP</td>\n",
       "      <td>2/8/2019</td>\n",
       "      <td>day</td>\n",
       "      <td>6</td>\n",
       "    </tr>\n",
       "    <tr>\n",
       "      <th>1</th>\n",
       "      <td>4KfJZV7WfolYlxBzOTo66s</td>\n",
       "      <td>album</td>\n",
       "      <td>6s1pCNXcbdtQJlsnM1hRIA</td>\n",
       "      <td>Shostakovich Symphony No.5 - Four Romances on ...</td>\n",
       "      <td>3/1/2019</td>\n",
       "      <td>day</td>\n",
       "      <td>8</td>\n",
       "    </tr>\n",
       "    <tr>\n",
       "      <th>2</th>\n",
       "      <td>7nLYY7uAVUb57kpd7tZxnS</td>\n",
       "      <td>single</td>\n",
       "      <td>5YjfNaHq05WrwldRe1QSBc</td>\n",
       "      <td>Take My Bass</td>\n",
       "      <td>3/14/2019</td>\n",
       "      <td>day</td>\n",
       "      <td>1</td>\n",
       "    </tr>\n",
       "    <tr>\n",
       "      <th>3</th>\n",
       "      <td>6p20Rt4x2Qn5mUMRi1s6pj</td>\n",
       "      <td>single</td>\n",
       "      <td>2G9Vc16JCpnZmK4uGH46Fa</td>\n",
       "      <td>Hypnotizing (Are U)</td>\n",
       "      <td>11/16/2016</td>\n",
       "      <td>day</td>\n",
       "      <td>1</td>\n",
       "    </tr>\n",
       "    <tr>\n",
       "      <th>4</th>\n",
       "      <td>1XeoOqC1q7U2iyLEQJ64cu</td>\n",
       "      <td>single</td>\n",
       "      <td>2dwM9OcE4c3Ph1UBINSodx</td>\n",
       "      <td>Sunshine</td>\n",
       "      <td>7/20/2018</td>\n",
       "      <td>day</td>\n",
       "      <td>1</td>\n",
       "    </tr>\n",
       "  </tbody>\n",
       "</table>\n",
       "</div>"
      ],
      "text/plain": [
       "                 album_id album_type               artist_id  \\\n",
       "0  1gAM7M4rBwEbSPeAQR2nx1     single  3DiDSECUqqY1AuBP8qtaIa   \n",
       "1  4KfJZV7WfolYlxBzOTo66s      album  6s1pCNXcbdtQJlsnM1hRIA   \n",
       "2  7nLYY7uAVUb57kpd7tZxnS     single  5YjfNaHq05WrwldRe1QSBc   \n",
       "3  6p20Rt4x2Qn5mUMRi1s6pj     single  2G9Vc16JCpnZmK4uGH46Fa   \n",
       "4  1XeoOqC1q7U2iyLEQJ64cu     single  2dwM9OcE4c3Ph1UBINSodx   \n",
       "\n",
       "                                          album_name release_date  \\\n",
       "0                              If I Ain't Got You EP     2/8/2019   \n",
       "1  Shostakovich Symphony No.5 - Four Romances on ...     3/1/2019   \n",
       "2                                       Take My Bass    3/14/2019   \n",
       "3                                Hypnotizing (Are U)   11/16/2016   \n",
       "4                                           Sunshine    7/20/2018   \n",
       "\n",
       "  release_date_precision  total_tracks  \n",
       "0                    day             6  \n",
       "1                    day             8  \n",
       "2                    day             1  \n",
       "3                    day             1  \n",
       "4                    day             1  "
      ]
     },
     "execution_count": 4,
     "metadata": {},
     "output_type": "execute_result"
    }
   ],
   "source": [
    "# load albums_df  dataframe\n",
    "\n",
    "albums_df = pd.read_csv('albums.csv')\n",
    "albums_df.head()"
   ]
  },
  {
   "cell_type": "code",
   "execution_count": 5,
   "metadata": {},
   "outputs": [
    {
     "data": {
      "text/html": [
       "<div>\n",
       "<style scoped>\n",
       "    .dataframe tbody tr th:only-of-type {\n",
       "        vertical-align: middle;\n",
       "    }\n",
       "\n",
       "    .dataframe tbody tr th {\n",
       "        vertical-align: top;\n",
       "    }\n",
       "\n",
       "    .dataframe thead th {\n",
       "        text-align: right;\n",
       "    }\n",
       "</style>\n",
       "<table border=\"1\" class=\"dataframe\">\n",
       "  <thead>\n",
       "    <tr style=\"text-align: right;\">\n",
       "      <th></th>\n",
       "      <th>track_id</th>\n",
       "      <th>album_id</th>\n",
       "      <th>artists_id</th>\n",
       "      <th>popularity</th>\n",
       "      <th>acousticness</th>\n",
       "      <th>danceability</th>\n",
       "      <th>duration_ms</th>\n",
       "      <th>energy</th>\n",
       "      <th>liveness</th>\n",
       "      <th>loudness</th>\n",
       "      <th>speechiness</th>\n",
       "      <th>tempo</th>\n",
       "      <th>valence</th>\n",
       "      <th>track_name_prev</th>\n",
       "      <th>track_number</th>\n",
       "    </tr>\n",
       "  </thead>\n",
       "  <tbody>\n",
       "    <tr>\n",
       "      <th>0</th>\n",
       "      <td>5qljLQuKnNJf4F4vfxQB0V</td>\n",
       "      <td>0D3QufeCudpQANOR7luqdr</td>\n",
       "      <td>['3mxJuHRn2ZWD5OofvJtDZY']</td>\n",
       "      <td>28</td>\n",
       "      <td>0.294</td>\n",
       "      <td>0.698</td>\n",
       "      <td>235584</td>\n",
       "      <td>0.606</td>\n",
       "      <td>0.151</td>\n",
       "      <td>-7.447</td>\n",
       "      <td>0.0262</td>\n",
       "      <td>115.018</td>\n",
       "      <td>0.6220</td>\n",
       "      <td>track_14</td>\n",
       "      <td>1</td>\n",
       "    </tr>\n",
       "    <tr>\n",
       "      <th>1</th>\n",
       "      <td>3VAX2MJdmdqARLSU5hPMpm</td>\n",
       "      <td>1bcqsH5UyTBzmh9YizdsBE</td>\n",
       "      <td>['4xWMewm6CYMstu0sPgd9jJ']</td>\n",
       "      <td>31</td>\n",
       "      <td>0.863</td>\n",
       "      <td>0.719</td>\n",
       "      <td>656960</td>\n",
       "      <td>0.308</td>\n",
       "      <td>0.253</td>\n",
       "      <td>-10.340</td>\n",
       "      <td>0.9220</td>\n",
       "      <td>115.075</td>\n",
       "      <td>0.5890</td>\n",
       "      <td>track_3</td>\n",
       "      <td>3</td>\n",
       "    </tr>\n",
       "    <tr>\n",
       "      <th>2</th>\n",
       "      <td>1L3YAhsEMrGVvCgDXj2TYn</td>\n",
       "      <td>4tKijjmxGClg4JOLAyo2qE</td>\n",
       "      <td>['3hYaK5FF3YAglCj5HZgBnP']</td>\n",
       "      <td>31</td>\n",
       "      <td>0.750</td>\n",
       "      <td>0.466</td>\n",
       "      <td>492840</td>\n",
       "      <td>0.931</td>\n",
       "      <td>0.938</td>\n",
       "      <td>-13.605</td>\n",
       "      <td>0.9440</td>\n",
       "      <td>79.565</td>\n",
       "      <td>0.0850</td>\n",
       "      <td>track_4</td>\n",
       "      <td>4</td>\n",
       "    </tr>\n",
       "    <tr>\n",
       "      <th>3</th>\n",
       "      <td>6aCe9zzoZmCojX7bbgKKtf</td>\n",
       "      <td>6FeJF5r8roonnKraJxr4oB</td>\n",
       "      <td>['2KQsUB9DRBcJk17JWX1eXD']</td>\n",
       "      <td>14</td>\n",
       "      <td>0.763</td>\n",
       "      <td>0.719</td>\n",
       "      <td>316578</td>\n",
       "      <td>0.126</td>\n",
       "      <td>0.113</td>\n",
       "      <td>-20.254</td>\n",
       "      <td>0.9380</td>\n",
       "      <td>112.822</td>\n",
       "      <td>0.5330</td>\n",
       "      <td>track_9</td>\n",
       "      <td>1</td>\n",
       "    </tr>\n",
       "    <tr>\n",
       "      <th>4</th>\n",
       "      <td>1Vo802A38tPFHmje1h91um</td>\n",
       "      <td>4tKijjmxGClg4JOLAyo2qE</td>\n",
       "      <td>['3hYaK5FF3YAglCj5HZgBnP']</td>\n",
       "      <td>32</td>\n",
       "      <td>0.770</td>\n",
       "      <td>0.460</td>\n",
       "      <td>558880</td>\n",
       "      <td>0.942</td>\n",
       "      <td>0.917</td>\n",
       "      <td>-13.749</td>\n",
       "      <td>0.9430</td>\n",
       "      <td>81.260</td>\n",
       "      <td>0.0906</td>\n",
       "      <td>track_2</td>\n",
       "      <td>2</td>\n",
       "    </tr>\n",
       "  </tbody>\n",
       "</table>\n",
       "</div>"
      ],
      "text/plain": [
       "                 track_id                album_id                  artists_id  \\\n",
       "0  5qljLQuKnNJf4F4vfxQB0V  0D3QufeCudpQANOR7luqdr  ['3mxJuHRn2ZWD5OofvJtDZY']   \n",
       "1  3VAX2MJdmdqARLSU5hPMpm  1bcqsH5UyTBzmh9YizdsBE  ['4xWMewm6CYMstu0sPgd9jJ']   \n",
       "2  1L3YAhsEMrGVvCgDXj2TYn  4tKijjmxGClg4JOLAyo2qE  ['3hYaK5FF3YAglCj5HZgBnP']   \n",
       "3  6aCe9zzoZmCojX7bbgKKtf  6FeJF5r8roonnKraJxr4oB  ['2KQsUB9DRBcJk17JWX1eXD']   \n",
       "4  1Vo802A38tPFHmje1h91um  4tKijjmxGClg4JOLAyo2qE  ['3hYaK5FF3YAglCj5HZgBnP']   \n",
       "\n",
       "   popularity  acousticness  danceability  duration_ms  energy  liveness  \\\n",
       "0          28         0.294         0.698       235584   0.606     0.151   \n",
       "1          31         0.863         0.719       656960   0.308     0.253   \n",
       "2          31         0.750         0.466       492840   0.931     0.938   \n",
       "3          14         0.763         0.719       316578   0.126     0.113   \n",
       "4          32         0.770         0.460       558880   0.942     0.917   \n",
       "\n",
       "   loudness  speechiness    tempo  valence track_name_prev  track_number  \n",
       "0    -7.447       0.0262  115.018   0.6220        track_14             1  \n",
       "1   -10.340       0.9220  115.075   0.5890         track_3             3  \n",
       "2   -13.605       0.9440   79.565   0.0850         track_4             4  \n",
       "3   -20.254       0.9380  112.822   0.5330         track_9             1  \n",
       "4   -13.749       0.9430   81.260   0.0906         track_2             2  "
      ]
     },
     "execution_count": 5,
     "metadata": {},
     "output_type": "execute_result"
    }
   ],
   "source": [
    "# load tracks_df  dataframe\n",
    "tracks_df = pd.read_csv('tracks.csv')\n",
    "tracks_df.head()\n"
   ]
  },
  {
   "cell_type": "markdown",
   "metadata": {},
   "source": [
    "**Q1.1** Merge the *artists_df* and *albums_df*  dataframes and name the new dataframe *art_alb_df* and show the first 5 rows."
   ]
  },
  {
   "cell_type": "code",
   "execution_count": 6,
   "metadata": {},
   "outputs": [
    {
     "data": {
      "text/html": [
       "<div>\n",
       "<style scoped>\n",
       "    .dataframe tbody tr th:only-of-type {\n",
       "        vertical-align: middle;\n",
       "    }\n",
       "\n",
       "    .dataframe tbody tr th {\n",
       "        vertical-align: top;\n",
       "    }\n",
       "\n",
       "    .dataframe thead th {\n",
       "        text-align: right;\n",
       "    }\n",
       "</style>\n",
       "<table border=\"1\" class=\"dataframe\">\n",
       "  <thead>\n",
       "    <tr style=\"text-align: right;\">\n",
       "      <th></th>\n",
       "      <th>artist_id</th>\n",
       "      <th>artist_popularity</th>\n",
       "      <th>followers</th>\n",
       "      <th>genres</th>\n",
       "      <th>artist_name</th>\n",
       "      <th>album_id</th>\n",
       "      <th>album_type</th>\n",
       "      <th>album_name</th>\n",
       "      <th>release_date</th>\n",
       "      <th>release_date_precision</th>\n",
       "      <th>total_tracks</th>\n",
       "    </tr>\n",
       "  </thead>\n",
       "  <tbody>\n",
       "    <tr>\n",
       "      <th>0</th>\n",
       "      <td>4mGnpjhqgx4RUdsIJiURdo</td>\n",
       "      <td>44</td>\n",
       "      <td>23230</td>\n",
       "      <td>['sertanejo', 'sertanejo pop', 'sertanejo trad...</td>\n",
       "      <td>Juliano Cezar</td>\n",
       "      <td>2tx2zEr2JUKhDqnRlWQdzR</td>\n",
       "      <td>album</td>\n",
       "      <td>É Isso Que A Galera Quer</td>\n",
       "      <td>9/1/2006</td>\n",
       "      <td>day</td>\n",
       "      <td>15</td>\n",
       "    </tr>\n",
       "    <tr>\n",
       "      <th>1</th>\n",
       "      <td>4mGnpjhqgx4RUdsIJiURdo</td>\n",
       "      <td>44</td>\n",
       "      <td>23230</td>\n",
       "      <td>['sertanejo', 'sertanejo pop', 'sertanejo trad...</td>\n",
       "      <td>Juliano Cezar</td>\n",
       "      <td>2zmd7Bn7in6CrgdHpFvU0b</td>\n",
       "      <td>album</td>\n",
       "      <td>Sucessos de Juliano Cézar</td>\n",
       "      <td>8/1/2013</td>\n",
       "      <td>day</td>\n",
       "      <td>15</td>\n",
       "    </tr>\n",
       "    <tr>\n",
       "      <th>2</th>\n",
       "      <td>1dLnVku4VQUOLswwDFvRc9</td>\n",
       "      <td>22</td>\n",
       "      <td>313</td>\n",
       "      <td>[]</td>\n",
       "      <td>The Grenadines</td>\n",
       "      <td>5YEORJnaovJcPqKNhlIQlx</td>\n",
       "      <td>album</td>\n",
       "      <td>Band on the Radio</td>\n",
       "      <td>11/16/2018</td>\n",
       "      <td>day</td>\n",
       "      <td>10</td>\n",
       "    </tr>\n",
       "    <tr>\n",
       "      <th>3</th>\n",
       "      <td>6YVY310fjfUzKi8hiqR7iK</td>\n",
       "      <td>26</td>\n",
       "      <td>1596</td>\n",
       "      <td>['danish pop rock']</td>\n",
       "      <td>Gangway</td>\n",
       "      <td>65CsTqUbM5RH0jFRZdIygK</td>\n",
       "      <td>album</td>\n",
       "      <td>Happy Ever After</td>\n",
       "      <td>9/17/1992</td>\n",
       "      <td>day</td>\n",
       "      <td>12</td>\n",
       "    </tr>\n",
       "    <tr>\n",
       "      <th>4</th>\n",
       "      <td>2VElyouiCfoYPDJluzwJwK</td>\n",
       "      <td>31</td>\n",
       "      <td>149</td>\n",
       "      <td>['uk alternative pop']</td>\n",
       "      <td>FADES</td>\n",
       "      <td>7Jbgxp7IqL09ODxOPYJJkv</td>\n",
       "      <td>single</td>\n",
       "      <td>Wasted</td>\n",
       "      <td>2/22/2019</td>\n",
       "      <td>day</td>\n",
       "      <td>1</td>\n",
       "    </tr>\n",
       "  </tbody>\n",
       "</table>\n",
       "</div>"
      ],
      "text/plain": [
       "                artist_id  artist_popularity  followers  \\\n",
       "0  4mGnpjhqgx4RUdsIJiURdo                 44      23230   \n",
       "1  4mGnpjhqgx4RUdsIJiURdo                 44      23230   \n",
       "2  1dLnVku4VQUOLswwDFvRc9                 22        313   \n",
       "3  6YVY310fjfUzKi8hiqR7iK                 26       1596   \n",
       "4  2VElyouiCfoYPDJluzwJwK                 31        149   \n",
       "\n",
       "                                              genres     artist_name  \\\n",
       "0  ['sertanejo', 'sertanejo pop', 'sertanejo trad...   Juliano Cezar   \n",
       "1  ['sertanejo', 'sertanejo pop', 'sertanejo trad...   Juliano Cezar   \n",
       "2                                                 []  The Grenadines   \n",
       "3                                ['danish pop rock']         Gangway   \n",
       "4                             ['uk alternative pop']           FADES   \n",
       "\n",
       "                 album_id album_type                 album_name release_date  \\\n",
       "0  2tx2zEr2JUKhDqnRlWQdzR      album   É Isso Que A Galera Quer     9/1/2006   \n",
       "1  2zmd7Bn7in6CrgdHpFvU0b      album  Sucessos de Juliano Cézar     8/1/2013   \n",
       "2  5YEORJnaovJcPqKNhlIQlx      album          Band on the Radio   11/16/2018   \n",
       "3  65CsTqUbM5RH0jFRZdIygK      album           Happy Ever After    9/17/1992   \n",
       "4  7Jbgxp7IqL09ODxOPYJJkv     single                     Wasted    2/22/2019   \n",
       "\n",
       "  release_date_precision  total_tracks  \n",
       "0                    day            15  \n",
       "1                    day            15  \n",
       "2                    day            10  \n",
       "3                    day            12  \n",
       "4                    day             1  "
      ]
     },
     "execution_count": 6,
     "metadata": {},
     "output_type": "execute_result"
    }
   ],
   "source": [
    "# your code \n",
    "art_alb_df = pd.merge(artists_df, albums_df)\n",
    "art_alb_df.head()\n"
   ]
  },
  {
   "cell_type": "markdown",
   "metadata": {},
   "source": [
    "**Q1.2** Show the name of the artists and number of albums for the top 20 artists with the most number of albums (**not singles**). "
   ]
  },
  {
   "cell_type": "code",
   "execution_count": 7,
   "metadata": {},
   "outputs": [
    {
     "data": {
      "text/plain": [
       "artist_name\n",
       "Various Artists            2227\n",
       "Johann Sebastian Bach        83\n",
       "Frédéric Chopin              59\n",
       "Wolfgang Amadeus Mozart      56\n",
       "Johnny Cash                  45\n",
       "Ludwig van Beethoven         37\n",
       "Jean Sibelius                33\n",
       "A.R. Rahman                  31\n",
       "Franz Schubert               30\n",
       "Aretha Franklin              30\n",
       "Franz Joseph Haydn           29\n",
       "Johannes Brahms              27\n",
       "Roberto Carlos               26\n",
       "Laura Pausini                26\n",
       "Luis Miguel                  26\n",
       "8-Bit Misfits                25\n",
       "Pritam                       25\n",
       "Bob Dylan                    24\n",
       "George Frideric Handel       24\n",
       "José José                    23\n",
       "Name: album_id, dtype: int64"
      ]
     },
     "execution_count": 7,
     "metadata": {},
     "output_type": "execute_result"
    }
   ],
   "source": [
    "# your code \n",
    "\n",
    "grouped = art_alb_df[art_alb_df[\"album_type\"]!=\"single\"].groupby(\"artist_name\")\n",
    "grouped[\"album_id\"].count().sort_values(ascending=False).head(20)"
   ]
  },
  {
   "cell_type": "markdown",
   "metadata": {},
   "source": [
    "**Q1.3** How many singles and how many albums were released by Alicia Keys since 2010 (inclusive). \n",
    "\n",
    "Note that the release date of albums can be a year or a particular date."
   ]
  },
  {
   "cell_type": "code",
   "execution_count": 8,
   "metadata": {},
   "outputs": [
    {
     "data": {
      "text/plain": [
       "album_type\n",
       "album     2\n",
       "single    7\n",
       "Name: album_id, dtype: int64"
      ]
     },
     "execution_count": 8,
     "metadata": {},
     "output_type": "execute_result"
    }
   ],
   "source": [
    "# your code \n",
    "import datetime\n",
    "\n",
    "formarted_year = pd.merge(artists_df, albums_df)\n",
    "f = lambda x : x[-4:] if len(x) > 4 else x\n",
    "\n",
    "formarted_year[\"release_date\"] = formarted_year[\"release_date\"].map(f);\n",
    "\n",
    "formarted_year[(formarted_year[\"release_date\"] >= \"2010\") & \n",
    "               (formarted_year[\"artist_name\"] == \"Alicia Keys\")].groupby(\"album_type\")[\"album_id\"].count()"
   ]
  },
  {
   "cell_type": "code",
   "execution_count": 9,
   "metadata": {},
   "outputs": [],
   "source": [
    "# intentionally left blank"
   ]
  },
  {
   "cell_type": "markdown",
   "metadata": {},
   "source": [
    "**Q2.1** Who are the top 5 artists with the most popularity? Do these artists have the most followers? If the lists of artists differ, what does that mean? \n",
    "\n",
    "Use *artists_df* to answer this question."
   ]
  },
  {
   "cell_type": "code",
   "execution_count": 10,
   "metadata": {},
   "outputs": [
    {
     "data": {
      "text/html": [
       "<div>\n",
       "<style scoped>\n",
       "    .dataframe tbody tr th:only-of-type {\n",
       "        vertical-align: middle;\n",
       "    }\n",
       "\n",
       "    .dataframe tbody tr th {\n",
       "        vertical-align: top;\n",
       "    }\n",
       "\n",
       "    .dataframe thead th {\n",
       "        text-align: right;\n",
       "    }\n",
       "</style>\n",
       "<table border=\"1\" class=\"dataframe\">\n",
       "  <thead>\n",
       "    <tr style=\"text-align: right;\">\n",
       "      <th></th>\n",
       "      <th>artist_name</th>\n",
       "      <th>artist_popularity</th>\n",
       "      <th>followers</th>\n",
       "    </tr>\n",
       "  </thead>\n",
       "  <tbody>\n",
       "    <tr>\n",
       "      <th>42872</th>\n",
       "      <td>Ariana Grande</td>\n",
       "      <td>100</td>\n",
       "      <td>26309771</td>\n",
       "    </tr>\n",
       "    <tr>\n",
       "      <th>53392</th>\n",
       "      <td>Drake</td>\n",
       "      <td>98</td>\n",
       "      <td>34680740</td>\n",
       "    </tr>\n",
       "    <tr>\n",
       "      <th>49775</th>\n",
       "      <td>Post Malone</td>\n",
       "      <td>96</td>\n",
       "      <td>12150628</td>\n",
       "    </tr>\n",
       "    <tr>\n",
       "      <th>55822</th>\n",
       "      <td>XXXTENTACION</td>\n",
       "      <td>95</td>\n",
       "      <td>11564320</td>\n",
       "    </tr>\n",
       "    <tr>\n",
       "      <th>49695</th>\n",
       "      <td>Juice WRLD</td>\n",
       "      <td>95</td>\n",
       "      <td>3607186</td>\n",
       "    </tr>\n",
       "  </tbody>\n",
       "</table>\n",
       "</div>"
      ],
      "text/plain": [
       "         artist_name  artist_popularity  followers\n",
       "42872  Ariana Grande                100   26309771\n",
       "53392          Drake                 98   34680740\n",
       "49775    Post Malone                 96   12150628\n",
       "55822   XXXTENTACION                 95   11564320\n",
       "49695     Juice WRLD                 95    3607186"
      ]
     },
     "execution_count": 10,
     "metadata": {},
     "output_type": "execute_result"
    }
   ],
   "source": [
    "# your code for  top 5 artists with the most popularity\n",
    "artists_df.sort_values(by=['artist_popularity'], ascending=False).head(5)[[\"artist_name\",\"artist_popularity\",\"followers\"]]\n"
   ]
  },
  {
   "cell_type": "code",
   "execution_count": 11,
   "metadata": {},
   "outputs": [
    {
     "data": {
      "text/html": [
       "<div>\n",
       "<style scoped>\n",
       "    .dataframe tbody tr th:only-of-type {\n",
       "        vertical-align: middle;\n",
       "    }\n",
       "\n",
       "    .dataframe tbody tr th {\n",
       "        vertical-align: top;\n",
       "    }\n",
       "\n",
       "    .dataframe thead th {\n",
       "        text-align: right;\n",
       "    }\n",
       "</style>\n",
       "<table border=\"1\" class=\"dataframe\">\n",
       "  <thead>\n",
       "    <tr style=\"text-align: right;\">\n",
       "      <th></th>\n",
       "      <th>artist_name</th>\n",
       "      <th>artist_popularity</th>\n",
       "      <th>followers</th>\n",
       "    </tr>\n",
       "  </thead>\n",
       "  <tbody>\n",
       "    <tr>\n",
       "      <th>55251</th>\n",
       "      <td>Ed Sheeran</td>\n",
       "      <td>92</td>\n",
       "      <td>41561693</td>\n",
       "    </tr>\n",
       "    <tr>\n",
       "      <th>53392</th>\n",
       "      <td>Drake</td>\n",
       "      <td>98</td>\n",
       "      <td>34680740</td>\n",
       "    </tr>\n",
       "    <tr>\n",
       "      <th>52620</th>\n",
       "      <td>Rihanna</td>\n",
       "      <td>90</td>\n",
       "      <td>30560149</td>\n",
       "    </tr>\n",
       "    <tr>\n",
       "      <th>54447</th>\n",
       "      <td>Justin Bieber</td>\n",
       "      <td>88</td>\n",
       "      <td>26824224</td>\n",
       "    </tr>\n",
       "    <tr>\n",
       "      <th>42872</th>\n",
       "      <td>Ariana Grande</td>\n",
       "      <td>100</td>\n",
       "      <td>26309771</td>\n",
       "    </tr>\n",
       "  </tbody>\n",
       "</table>\n",
       "</div>"
      ],
      "text/plain": [
       "         artist_name  artist_popularity  followers\n",
       "55251     Ed Sheeran                 92   41561693\n",
       "53392          Drake                 98   34680740\n",
       "52620        Rihanna                 90   30560149\n",
       "54447  Justin Bieber                 88   26824224\n",
       "42872  Ariana Grande                100   26309771"
      ]
     },
     "execution_count": 11,
     "metadata": {},
     "output_type": "execute_result"
    }
   ],
   "source": [
    "# your code for artists having the most followers\n",
    "artists_df.sort_values(by=['followers'], ascending=False).head(5)[[\"artist_name\",\"artist_popularity\",\"followers\"]]\n"
   ]
  },
  {
   "cell_type": "markdown",
   "metadata": {},
   "source": [
    "**Answer:** The two lists have overlap but does not match perfectly. This probably means that the popularity does not toally depends on the numbers of followers."
   ]
  },
  {
   "cell_type": "markdown",
   "metadata": {},
   "source": [
    "**Q2.2** Using *artists_df* create a list called *genres* containing all possible values within the \"genre\" column. This list must contain only unique values.\n",
    "\n",
    "*Hint*: the genres column contains strings, not lists."
   ]
  },
  {
   "cell_type": "code",
   "execution_count": 12,
   "metadata": {},
   "outputs": [],
   "source": [
    "# your code\n",
    "genres_set = set()\n",
    "for each in artists_df[\"genres\"]:\n",
    "    temp = eval(each)\n",
    "    for item in temp:\n",
    "        genres_set.add(item)"
   ]
  },
  {
   "cell_type": "markdown",
   "metadata": {},
   "source": [
    "**Q2.3** Using *artists_df* create 5 new dataframes *pop_df*, *rock_df*, *jazz_df*, *indie_df* and *hiphop_df*. If the genre of a track **contains** the word \"pop\" (such as, in \"danish pop rock\"), add it to the *pop_df*. Do this (i.e. create the corresponding dataframes) in a  similar way for other genres.\n"
   ]
  },
  {
   "cell_type": "code",
   "execution_count": 13,
   "metadata": {},
   "outputs": [
    {
     "data": {
      "text/html": [
       "<div>\n",
       "<style scoped>\n",
       "    .dataframe tbody tr th:only-of-type {\n",
       "        vertical-align: middle;\n",
       "    }\n",
       "\n",
       "    .dataframe tbody tr th {\n",
       "        vertical-align: top;\n",
       "    }\n",
       "\n",
       "    .dataframe thead th {\n",
       "        text-align: right;\n",
       "    }\n",
       "</style>\n",
       "<table border=\"1\" class=\"dataframe\">\n",
       "  <thead>\n",
       "    <tr style=\"text-align: right;\">\n",
       "      <th></th>\n",
       "      <th>artist_id</th>\n",
       "      <th>artist_popularity</th>\n",
       "      <th>followers</th>\n",
       "      <th>genres</th>\n",
       "      <th>artist_name</th>\n",
       "    </tr>\n",
       "  </thead>\n",
       "  <tbody>\n",
       "    <tr>\n",
       "      <th>17</th>\n",
       "      <td>4sH7SLGP6BLOYDtcP6Lm47</td>\n",
       "      <td>46</td>\n",
       "      <td>30344</td>\n",
       "      <td>['abstract hip hop']</td>\n",
       "      <td>P.O.S</td>\n",
       "    </tr>\n",
       "    <tr>\n",
       "      <th>26</th>\n",
       "      <td>6PWRJs1FosHp8Cqx0Nmswj</td>\n",
       "      <td>44</td>\n",
       "      <td>29230</td>\n",
       "      <td>['abstract hip hop', 'experimental hip hop', '...</td>\n",
       "      <td>Astronautalis</td>\n",
       "    </tr>\n",
       "    <tr>\n",
       "      <th>114</th>\n",
       "      <td>6TeJpqb3PcvfHxjKAEKCNu</td>\n",
       "      <td>49</td>\n",
       "      <td>31182</td>\n",
       "      <td>['dark trap', 'emo rap', 'underground hip hop']</td>\n",
       "      <td>PRXJEK</td>\n",
       "    </tr>\n",
       "    <tr>\n",
       "      <th>144</th>\n",
       "      <td>05X5qdeeGgBQe115bTNlWu</td>\n",
       "      <td>43</td>\n",
       "      <td>13533</td>\n",
       "      <td>['danish hip hop', 'danish pop']</td>\n",
       "      <td>Pede B</td>\n",
       "    </tr>\n",
       "    <tr>\n",
       "      <th>200</th>\n",
       "      <td>7iy8L2sZVT2ae2pWZWadrs</td>\n",
       "      <td>7</td>\n",
       "      <td>302</td>\n",
       "      <td>['belgian hip hop']</td>\n",
       "      <td>Masai Jr</td>\n",
       "    </tr>\n",
       "  </tbody>\n",
       "</table>\n",
       "</div>"
      ],
      "text/plain": [
       "                  artist_id  artist_popularity  followers  \\\n",
       "17   4sH7SLGP6BLOYDtcP6Lm47                 46      30344   \n",
       "26   6PWRJs1FosHp8Cqx0Nmswj                 44      29230   \n",
       "114  6TeJpqb3PcvfHxjKAEKCNu                 49      31182   \n",
       "144  05X5qdeeGgBQe115bTNlWu                 43      13533   \n",
       "200  7iy8L2sZVT2ae2pWZWadrs                  7        302   \n",
       "\n",
       "                                                genres    artist_name  \n",
       "17                                ['abstract hip hop']          P.O.S  \n",
       "26   ['abstract hip hop', 'experimental hip hop', '...  Astronautalis  \n",
       "114    ['dark trap', 'emo rap', 'underground hip hop']         PRXJEK  \n",
       "144                   ['danish hip hop', 'danish pop']         Pede B  \n",
       "200                                ['belgian hip hop']       Masai Jr  "
      ]
     },
     "execution_count": 13,
     "metadata": {},
     "output_type": "execute_result"
    }
   ],
   "source": [
    "# your code\n",
    "\n",
    "pop_df = artists_df[artists_df[\"genres\"].str.contains(\"pop\")]\n",
    "rock_df = artists_df[artists_df[\"genres\"].str.contains(\"rock\")]\n",
    "jazz_df = artists_df[artists_df[\"genres\"].str.contains(\"jazz\")]\n",
    "indie_df = artists_df[artists_df[\"genres\"].str.contains(\"indie\")]\n",
    "hiphop_df = artists_df[artists_df[\"genres\"].str.contains(\"hip hop\")]\n",
    "\n",
    "hiphop_df.head()"
   ]
  },
  {
   "cell_type": "markdown",
   "metadata": {},
   "source": [
    "**Q2.4** For each of the 5 categories from Q2.3, plot the boxplots of the artist popularity in a single plot. Which genre has the highest median artist popularity and which boxplot looks like it has the lowest number of outliers? How do you know?"
   ]
  },
  {
   "cell_type": "code",
   "execution_count": 14,
   "metadata": {},
   "outputs": [
    {
     "data": {
      "text/plain": [
       "Text(0.5, 0.98, 'Artist Popularity by Genres')"
      ]
     },
     "execution_count": 14,
     "metadata": {},
     "output_type": "execute_result"
    },
    {
     "data": {
      "image/png": "[encoded data removed]",
      "text/plain": [
       "<Figure size 1080x360 with 5 Axes>"
      ]
     },
     "metadata": {
      "needs_background": "light"
     },
     "output_type": "display_data"
    }
   ],
   "source": [
    "# your code\n",
    "f, axes = plt.subplots(1,5, sharex=True, sharey=True, figsize=(15, 5))\n",
    "\n",
    "axes[0].boxplot(pop_df['artist_popularity'])\n",
    "axes[1].boxplot(rock_df['artist_popularity'])\n",
    "axes[2].boxplot(jazz_df['artist_popularity'])\n",
    "axes[3].boxplot(indie_df['artist_popularity'])\n",
    "axes[4].boxplot(hiphop_df['artist_popularity'])\n",
    "\n",
    "axes[0].set_title('Pop')\n",
    "axes[0].set_ylabel(\"Popularity\")\n",
    "axes[1].set_title('Rock ')\n",
    "axes[2].set_title('Jazz ')\n",
    "axes[3].set_title('Indie ')\n",
    "axes[4].set_title('Hip hop ')\n",
    "\n",
    "plt.suptitle('Artist Popularity by Genres')\n"
   ]
  },
  {
   "cell_type": "markdown",
   "metadata": {},
   "source": [
    "**Answer:** By lokking at the boxplot. Hip hop has the highest median(the middle orange line), and jass has least outliers(lowest upper whisker)."
   ]
  },
  {
   "cell_type": "markdown",
   "metadata": {},
   "source": [
    "**Q2.5** For each of the 5 categories from Q2.3, plot a bar chart of the number of followers per given genre (pop, rock, jazz, indie and hip hop) in a single plot. Which genre has the most followers? Which one has the least?"
   ]
  },
  {
   "cell_type": "code",
   "execution_count": 15,
   "metadata": {},
   "outputs": [
    {
     "data": {
      "text/plain": [
       "<BarContainer object of 5 artists>"
      ]
     },
     "execution_count": 15,
     "metadata": {},
     "output_type": "execute_result"
    },
    {
     "data": {
      "image/png": "[encoded data removed]",
      "text/plain": [
       "<Figure size 432x288 with 1 Axes>"
      ]
     },
     "metadata": {
      "needs_background": "light"
     },
     "output_type": "display_data"
    }
   ],
   "source": [
    "# your code\n",
    "\n",
    "x_genres = [\"Pop\", \"Rock\", \"Jazz\", \"Indie\", \"Hip hop\"]\n",
    "y_total_followers = [pop_df['followers'].sum(), rock_df['followers'].sum(), jazz_df['followers'].sum(), indie_df['followers'].sum(), hiphop_df['followers'].sum()]\n",
    "plt.bar(x_genres,y_total_followers)\n"
   ]
  },
  {
   "cell_type": "markdown",
   "metadata": {},
   "source": [
    "**Answer:** Pop has most followers and jazz has the least."
   ]
  },
  {
   "cell_type": "code",
   "execution_count": 16,
   "metadata": {},
   "outputs": [],
   "source": [
    "# intentionally left blank"
   ]
  },
  {
   "cell_type": "markdown",
   "metadata": {},
   "source": [
    "**Q3.1** Using *artists_df* create a new dataframes *nogenre_df*. If the genre of a track **contains** is an empty list ('[]'), add it to the dataframe. Display the first 5 values of the dataframe.\n",
    "\n",
    "*Hint*: the genres column contains strings, not lists."
   ]
  },
  {
   "cell_type": "code",
   "execution_count": 17,
   "metadata": {},
   "outputs": [
    {
     "data": {
      "text/html": [
       "<div>\n",
       "<style scoped>\n",
       "    .dataframe tbody tr th:only-of-type {\n",
       "        vertical-align: middle;\n",
       "    }\n",
       "\n",
       "    .dataframe tbody tr th {\n",
       "        vertical-align: top;\n",
       "    }\n",
       "\n",
       "    .dataframe thead th {\n",
       "        text-align: right;\n",
       "    }\n",
       "</style>\n",
       "<table border=\"1\" class=\"dataframe\">\n",
       "  <thead>\n",
       "    <tr style=\"text-align: right;\">\n",
       "      <th></th>\n",
       "      <th>artist_id</th>\n",
       "      <th>artist_popularity</th>\n",
       "      <th>followers</th>\n",
       "      <th>genres</th>\n",
       "      <th>artist_name</th>\n",
       "    </tr>\n",
       "  </thead>\n",
       "  <tbody>\n",
       "    <tr>\n",
       "      <th>1</th>\n",
       "      <td>1dLnVku4VQUOLswwDFvRc9</td>\n",
       "      <td>22</td>\n",
       "      <td>313</td>\n",
       "      <td>[]</td>\n",
       "      <td>The Grenadines</td>\n",
       "    </tr>\n",
       "    <tr>\n",
       "      <th>5</th>\n",
       "      <td>38VBjthd0szbS6wpDMafrb</td>\n",
       "      <td>43</td>\n",
       "      <td>81</td>\n",
       "      <td>[]</td>\n",
       "      <td>Filhos</td>\n",
       "    </tr>\n",
       "    <tr>\n",
       "      <th>6</th>\n",
       "      <td>36mHwYa65L0WZbAXY2iSGw</td>\n",
       "      <td>34</td>\n",
       "      <td>8358</td>\n",
       "      <td>[]</td>\n",
       "      <td>Eloq</td>\n",
       "    </tr>\n",
       "    <tr>\n",
       "      <th>7</th>\n",
       "      <td>1jJyy00XfxjB4tMAv5OT0q</td>\n",
       "      <td>7</td>\n",
       "      <td>158</td>\n",
       "      <td>[]</td>\n",
       "      <td>Fravær</td>\n",
       "    </tr>\n",
       "    <tr>\n",
       "      <th>8</th>\n",
       "      <td>10A8WbBJ0zW8MnvTsUL6os</td>\n",
       "      <td>21</td>\n",
       "      <td>30</td>\n",
       "      <td>[]</td>\n",
       "      <td>Camille Pépin</td>\n",
       "    </tr>\n",
       "  </tbody>\n",
       "</table>\n",
       "</div>"
      ],
      "text/plain": [
       "                artist_id  artist_popularity  followers genres     artist_name\n",
       "1  1dLnVku4VQUOLswwDFvRc9                 22        313     []  The Grenadines\n",
       "5  38VBjthd0szbS6wpDMafrb                 43         81     []          Filhos\n",
       "6  36mHwYa65L0WZbAXY2iSGw                 34       8358     []            Eloq\n",
       "7  1jJyy00XfxjB4tMAv5OT0q                  7        158     []          Fravær\n",
       "8  10A8WbBJ0zW8MnvTsUL6os                 21         30     []   Camille Pépin"
      ]
     },
     "execution_count": 17,
     "metadata": {},
     "output_type": "execute_result"
    }
   ],
   "source": [
    "# your code\n",
    "\n",
    "nogenre_df = artists_df[artists_df[\"genres\"] == '[]']\n",
    "nogenre_df.head()\n"
   ]
  },
  {
   "cell_type": "markdown",
   "metadata": {},
   "source": [
    "**Q3.2** In a single plot, show 6 Probability Mass Functions (PMF), as step functions, of the artist popularity for the genres from question *Q2.3* and the *nogenre_df* created in *Q3.1*.\n",
    "\n",
    "\n",
    "*Hint*: Refer to lecture notes on *_Statistics.pdf to see how to plot PMFs. "
   ]
  },
  {
   "cell_type": "code",
   "execution_count": 18,
   "metadata": {},
   "outputs": [
    {
     "data": {
      "image/png": "[encoded data removed]",
      "text/plain": [
       "<Figure size 432x288 with 1 Axes>"
      ]
     },
     "metadata": {
      "needs_background": "light"
     },
     "output_type": "display_data"
    },
    {
     "data": {
      "text/plain": [
       "<Figure size 576x432 with 0 Axes>"
      ]
     },
     "metadata": {},
     "output_type": "display_data"
    }
   ],
   "source": [
    "# your code \n",
    "\n",
    "pop_pmf = thinkstats2.Pmf(pop_df[\"artist_popularity\"], label = \"pop\")\n",
    "rock_pmf = thinkstats2.Pmf(rock_df[\"artist_popularity\"], label = \"rock\")\n",
    "jazz_pmf = thinkstats2.Pmf(jazz_df[\"artist_popularity\"], label = \"jazz\")\n",
    "indie_pmf = thinkstats2.Pmf(indie_df[\"artist_popularity\"], label = \"indie\")\n",
    "hiphop_pmf = thinkstats2.Pmf(hiphop_df[\"artist_popularity\"], label = \"hiphop\")\n",
    "nogenre_pmf = thinkstats2.Pmf(nogenre_df[\"artist_popularity\"], label = \"no genre\")\n",
    "thinkplot.Pmf(pop_pmf ,color = \"red\")\n",
    "thinkplot.Pmf(rock_pmf ,color = \"green\")\n",
    "thinkplot.Pmf(jazz_pmf ,color = \"blue\")\n",
    "thinkplot.Pmf(indie_pmf ,color = \"black\")\n",
    "thinkplot.Pmf(hiphop_pmf ,color = \"yellow\")\n",
    "thinkplot.Pmf(nogenre_pmf ,color = \"gray\")\n",
    "thinkplot.Show()\n"
   ]
  },
  {
   "cell_type": "markdown",
   "metadata": {},
   "source": [
    "**Q3.3** From the PMF plots, what can you infer? (Note that artist popularity is on a scale from 0-100)\n",
    "\n",
    "**Answer:** no genre has lowest popularity and hiphop has the highest average popularity. Many artist in Jazz get around 45 popularity. Pop and Rock has very close popularity."
   ]
  },
  {
   "cell_type": "markdown",
   "metadata": {},
   "source": [
    "**Q3.4** In a single plot, show 6 Cumulative Distribution Functions (CDF) of the artist popularity for the genres from question *Q2.3* and the *nogenre_df* created in *Q3.1*.\n",
    "\n",
    "\n",
    "*Hint*: Refer to lecture notes on *_Statistics.pdf to see how to plot CDFs. "
   ]
  },
  {
   "cell_type": "code",
   "execution_count": 19,
   "metadata": {},
   "outputs": [
    {
     "data": {
      "image/png": "[encoded data removed]",
      "text/plain": [
       "<Figure size 432x288 with 1 Axes>"
      ]
     },
     "metadata": {
      "needs_background": "light"
     },
     "output_type": "display_data"
    },
    {
     "data": {
      "text/plain": [
       "<Figure size 576x432 with 0 Axes>"
      ]
     },
     "metadata": {},
     "output_type": "display_data"
    }
   ],
   "source": [
    "# your code \n",
    "\n",
    "pop_pmf = thinkstats2.Cdf(pop_df[\"artist_popularity\"], label = \"pop\")\n",
    "rock_pmf = thinkstats2.Cdf(rock_df[\"artist_popularity\"], label = \"rock\")\n",
    "jazz_pmf = thinkstats2.Cdf(jazz_df[\"artist_popularity\"], label = \"jazz\")\n",
    "indie_pmf = thinkstats2.Cdf(indie_df[\"artist_popularity\"], label = \"indie\")\n",
    "hiphop_pmf = thinkstats2.Cdf(hiphop_df[\"artist_popularity\"], label = \"hiphop\")\n",
    "nogenre_pmf = thinkstats2.Cdf(nogenre_df[\"artist_popularity\"], label = \"no genre\")\n",
    "thinkplot.Cdf(pop_pmf ,color = \"red\")\n",
    "thinkplot.Cdf(rock_pmf ,color = \"green\")\n",
    "thinkplot.Cdf(jazz_pmf ,color = \"blue\")\n",
    "thinkplot.Cdf(indie_pmf ,color = \"black\")\n",
    "thinkplot.Cdf(hiphop_pmf ,color = \"yellow\")\n",
    "thinkplot.Cdf(nogenre_pmf ,color = \"gray\")\n",
    "thinkplot.Show()\n"
   ]
  },
  {
   "cell_type": "markdown",
   "metadata": {},
   "source": [
    "**Q3.5** From the CDF plots, what can you infer? \n",
    "\n",
    "**Answer:** No genre has lowest popularity. hiphop,pop and rock has very close popularity. Indie is more popular than jazz."
   ]
  },
  {
   "cell_type": "code",
   "execution_count": 20,
   "metadata": {},
   "outputs": [],
   "source": [
    "# intentionally left blank"
   ]
  },
  {
   "cell_type": "markdown",
   "metadata": {},
   "source": [
    "**Q4.**  Danceability  has been defined as a property that indicates how suitable a piece of music is to dance based on various audio features such as tempo, loudness, valence (i.e. musical positiveness of emotion) and speechiness etc. In the next few questions, you will try to determine the features that have the most influence on danceability.\n",
    "\n",
    "Use *tracks_df* to answer these questions. Filter out any record with danceability 0 or less, before proceeding."
   ]
  },
  {
   "cell_type": "code",
   "execution_count": 21,
   "metadata": {},
   "outputs": [
    {
     "data": {
      "text/html": [
       "<div>\n",
       "<style scoped>\n",
       "    .dataframe tbody tr th:only-of-type {\n",
       "        vertical-align: middle;\n",
       "    }\n",
       "\n",
       "    .dataframe tbody tr th {\n",
       "        vertical-align: top;\n",
       "    }\n",
       "\n",
       "    .dataframe thead th {\n",
       "        text-align: right;\n",
       "    }\n",
       "</style>\n",
       "<table border=\"1\" class=\"dataframe\">\n",
       "  <thead>\n",
       "    <tr style=\"text-align: right;\">\n",
       "      <th></th>\n",
       "      <th>track_id</th>\n",
       "      <th>album_id</th>\n",
       "      <th>artists_id</th>\n",
       "      <th>popularity</th>\n",
       "      <th>acousticness</th>\n",
       "      <th>danceability</th>\n",
       "      <th>duration_ms</th>\n",
       "      <th>energy</th>\n",
       "      <th>liveness</th>\n",
       "      <th>loudness</th>\n",
       "      <th>speechiness</th>\n",
       "      <th>tempo</th>\n",
       "      <th>valence</th>\n",
       "      <th>track_name_prev</th>\n",
       "      <th>track_number</th>\n",
       "    </tr>\n",
       "  </thead>\n",
       "  <tbody>\n",
       "    <tr>\n",
       "      <th>0</th>\n",
       "      <td>5qljLQuKnNJf4F4vfxQB0V</td>\n",
       "      <td>0D3QufeCudpQANOR7luqdr</td>\n",
       "      <td>['3mxJuHRn2ZWD5OofvJtDZY']</td>\n",
       "      <td>28</td>\n",
       "      <td>0.294</td>\n",
       "      <td>0.698</td>\n",
       "      <td>235584</td>\n",
       "      <td>0.606</td>\n",
       "      <td>0.151</td>\n",
       "      <td>-7.447</td>\n",
       "      <td>0.0262</td>\n",
       "      <td>115.018</td>\n",
       "      <td>0.6220</td>\n",
       "      <td>track_14</td>\n",
       "      <td>1</td>\n",
       "    </tr>\n",
       "    <tr>\n",
       "      <th>1</th>\n",
       "      <td>3VAX2MJdmdqARLSU5hPMpm</td>\n",
       "      <td>1bcqsH5UyTBzmh9YizdsBE</td>\n",
       "      <td>['4xWMewm6CYMstu0sPgd9jJ']</td>\n",
       "      <td>31</td>\n",
       "      <td>0.863</td>\n",
       "      <td>0.719</td>\n",
       "      <td>656960</td>\n",
       "      <td>0.308</td>\n",
       "      <td>0.253</td>\n",
       "      <td>-10.340</td>\n",
       "      <td>0.9220</td>\n",
       "      <td>115.075</td>\n",
       "      <td>0.5890</td>\n",
       "      <td>track_3</td>\n",
       "      <td>3</td>\n",
       "    </tr>\n",
       "    <tr>\n",
       "      <th>2</th>\n",
       "      <td>1L3YAhsEMrGVvCgDXj2TYn</td>\n",
       "      <td>4tKijjmxGClg4JOLAyo2qE</td>\n",
       "      <td>['3hYaK5FF3YAglCj5HZgBnP']</td>\n",
       "      <td>31</td>\n",
       "      <td>0.750</td>\n",
       "      <td>0.466</td>\n",
       "      <td>492840</td>\n",
       "      <td>0.931</td>\n",
       "      <td>0.938</td>\n",
       "      <td>-13.605</td>\n",
       "      <td>0.9440</td>\n",
       "      <td>79.565</td>\n",
       "      <td>0.0850</td>\n",
       "      <td>track_4</td>\n",
       "      <td>4</td>\n",
       "    </tr>\n",
       "    <tr>\n",
       "      <th>3</th>\n",
       "      <td>6aCe9zzoZmCojX7bbgKKtf</td>\n",
       "      <td>6FeJF5r8roonnKraJxr4oB</td>\n",
       "      <td>['2KQsUB9DRBcJk17JWX1eXD']</td>\n",
       "      <td>14</td>\n",
       "      <td>0.763</td>\n",
       "      <td>0.719</td>\n",
       "      <td>316578</td>\n",
       "      <td>0.126</td>\n",
       "      <td>0.113</td>\n",
       "      <td>-20.254</td>\n",
       "      <td>0.9380</td>\n",
       "      <td>112.822</td>\n",
       "      <td>0.5330</td>\n",
       "      <td>track_9</td>\n",
       "      <td>1</td>\n",
       "    </tr>\n",
       "    <tr>\n",
       "      <th>4</th>\n",
       "      <td>1Vo802A38tPFHmje1h91um</td>\n",
       "      <td>4tKijjmxGClg4JOLAyo2qE</td>\n",
       "      <td>['3hYaK5FF3YAglCj5HZgBnP']</td>\n",
       "      <td>32</td>\n",
       "      <td>0.770</td>\n",
       "      <td>0.460</td>\n",
       "      <td>558880</td>\n",
       "      <td>0.942</td>\n",
       "      <td>0.917</td>\n",
       "      <td>-13.749</td>\n",
       "      <td>0.9430</td>\n",
       "      <td>81.260</td>\n",
       "      <td>0.0906</td>\n",
       "      <td>track_2</td>\n",
       "      <td>2</td>\n",
       "    </tr>\n",
       "  </tbody>\n",
       "</table>\n",
       "</div>"
      ],
      "text/plain": [
       "                 track_id                album_id                  artists_id  \\\n",
       "0  5qljLQuKnNJf4F4vfxQB0V  0D3QufeCudpQANOR7luqdr  ['3mxJuHRn2ZWD5OofvJtDZY']   \n",
       "1  3VAX2MJdmdqARLSU5hPMpm  1bcqsH5UyTBzmh9YizdsBE  ['4xWMewm6CYMstu0sPgd9jJ']   \n",
       "2  1L3YAhsEMrGVvCgDXj2TYn  4tKijjmxGClg4JOLAyo2qE  ['3hYaK5FF3YAglCj5HZgBnP']   \n",
       "3  6aCe9zzoZmCojX7bbgKKtf  6FeJF5r8roonnKraJxr4oB  ['2KQsUB9DRBcJk17JWX1eXD']   \n",
       "4  1Vo802A38tPFHmje1h91um  4tKijjmxGClg4JOLAyo2qE  ['3hYaK5FF3YAglCj5HZgBnP']   \n",
       "\n",
       "   popularity  acousticness  danceability  duration_ms  energy  liveness  \\\n",
       "0          28         0.294         0.698       235584   0.606     0.151   \n",
       "1          31         0.863         0.719       656960   0.308     0.253   \n",
       "2          31         0.750         0.466       492840   0.931     0.938   \n",
       "3          14         0.763         0.719       316578   0.126     0.113   \n",
       "4          32         0.770         0.460       558880   0.942     0.917   \n",
       "\n",
       "   loudness  speechiness    tempo  valence track_name_prev  track_number  \n",
       "0    -7.447       0.0262  115.018   0.6220        track_14             1  \n",
       "1   -10.340       0.9220  115.075   0.5890         track_3             3  \n",
       "2   -13.605       0.9440   79.565   0.0850         track_4             4  \n",
       "3   -20.254       0.9380  112.822   0.5330         track_9             1  \n",
       "4   -13.749       0.9430   81.260   0.0906         track_2             2  "
      ]
     },
     "execution_count": 21,
     "metadata": {},
     "output_type": "execute_result"
    }
   ],
   "source": [
    "# reload dataframe\n",
    "tracks_df = pd.read_csv('tracks.csv')\n",
    "tracks_df = tracks_df[tracks_df[\"danceability\"] > 0]\n",
    "tracks_df.head()"
   ]
  },
  {
   "cell_type": "markdown",
   "metadata": {},
   "source": [
    "**Q4.1** Plot a scatterplot of the danceability of the tracks (on the x-axis) and their tempo (on the y-axis), then calculate Pearson’s Correlation Coefficient. "
   ]
  },
  {
   "cell_type": "code",
   "execution_count": 22,
   "metadata": {},
   "outputs": [
    {
     "name": "stderr",
     "output_type": "stream",
     "text": [
      "No handles with labels found to put in legend.\n"
     ]
    },
    {
     "data": {
      "image/png": "[encoded data removed]",
      "text/plain": [
       "<Figure size 432x288 with 1 Axes>"
      ]
     },
     "metadata": {
      "needs_background": "light"
     },
     "output_type": "display_data"
    },
    {
     "name": "stdout",
     "output_type": "stream",
     "text": [
      "Pearson’s Correlation Coefficient:  -0.034808405915085376\n"
     ]
    },
    {
     "data": {
      "text/plain": [
       "<Figure size 576x432 with 0 Axes>"
      ]
     },
     "metadata": {},
     "output_type": "display_data"
    }
   ],
   "source": [
    "# your code\n",
    "x = tracks_df[\"danceability\"]\n",
    "y = tracks_df[\"tempo\"]\n",
    "\n",
    "thinkplot.Scatter(x, y)\n",
    "thinkplot.Show(xlabel='danceability',ylabel='tempo')\n",
    "\n",
    "print(\"Pearson’s Correlation Coefficient: \",thinkstats2.Corr(x,y))"
   ]
  },
  {
   "cell_type": "markdown",
   "metadata": {},
   "source": [
    "**Q4.2** Plot a scatterplot of the danceability of the tracks (on the x-axis) and their valence (on the y-axis), then calculate Pearson’s Correlation Coefficient. "
   ]
  },
  {
   "cell_type": "code",
   "execution_count": 23,
   "metadata": {},
   "outputs": [
    {
     "name": "stderr",
     "output_type": "stream",
     "text": [
      "No handles with labels found to put in legend.\n"
     ]
    },
    {
     "data": {
      "image/png": "[encoded data removed]",
      "text/plain": [
       "<Figure size 432x288 with 1 Axes>"
      ]
     },
     "metadata": {
      "needs_background": "light"
     },
     "output_type": "display_data"
    },
    {
     "name": "stdout",
     "output_type": "stream",
     "text": [
      "Pearson’s Correlation Coefficient:  0.5163542935179827\n"
     ]
    },
    {
     "data": {
      "text/plain": [
       "<Figure size 576x432 with 0 Axes>"
      ]
     },
     "metadata": {},
     "output_type": "display_data"
    }
   ],
   "source": [
    "# your code\n",
    "x = tracks_df[\"danceability\"]\n",
    "y = tracks_df[\"valence\"]\n",
    "\n",
    "thinkplot.Scatter(x, y)\n",
    "thinkplot.Show(xlabel='danceability',ylabel='valence')\n",
    "\n",
    "print(\"Pearson’s Correlation Coefficient: \",thinkstats2.Corr(x,y))\n"
   ]
  },
  {
   "cell_type": "markdown",
   "metadata": {},
   "source": [
    "**Q4.3** Plot a scatterplot of the danceability of the tracks (on the x-axis) and their loudness (on the y-axis), then calculate Pearson’s Correlation Coefficient. "
   ]
  },
  {
   "cell_type": "code",
   "execution_count": 24,
   "metadata": {},
   "outputs": [
    {
     "name": "stderr",
     "output_type": "stream",
     "text": [
      "No handles with labels found to put in legend.\n"
     ]
    },
    {
     "data": {
      "image/png": "[encoded data removed]",
      "text/plain": [
       "<Figure size 432x288 with 1 Axes>"
      ]
     },
     "metadata": {
      "needs_background": "light"
     },
     "output_type": "display_data"
    },
    {
     "name": "stdout",
     "output_type": "stream",
     "text": [
      "Pearson’s Correlation Coefficient:  0.33414950788542813\n"
     ]
    },
    {
     "data": {
      "text/plain": [
       "<Figure size 576x432 with 0 Axes>"
      ]
     },
     "metadata": {},
     "output_type": "display_data"
    }
   ],
   "source": [
    "# your code\n",
    "x = tracks_df[\"danceability\"]\n",
    "y = tracks_df[\"loudness\"]\n",
    "\n",
    "thinkplot.Scatter(x, y)\n",
    "thinkplot.Show(xlabel='danceability',ylabel='loudness')\n",
    "\n",
    "print(\"Pearson’s Correlation Coefficient: \",thinkstats2.Corr(x,y))\n"
   ]
  },
  {
   "cell_type": "markdown",
   "metadata": {},
   "source": [
    "**Q4.4** From the above plots, what can you infer? Which feature of a track has the most influence on its danceability?\n",
    "\n",
    "**Answer:**  The tempo does not have much influence on a track's danceability. Valence has the most positive(higher valence gives higher danceability) influence on its danceability, and then loudness also has a positive influence on danceability."
   ]
  }
 ],
 "metadata": {
  "kernelspec": {
   "display_name": "Python 3",
   "language": "python",
   "name": "python3"
  },
  "language_info": {
   "codemirror_mode": {
    "name": "ipython",
    "version": 3
   },
   "file_extension": ".py",
   "mimetype": "text/x-python",
   "name": "python",
   "nbconvert_exporter": "python",
   "pygments_lexer": "ipython3",
   "version": "3.8.8"
  }
 },
 "nbformat": 4,
 "nbformat_minor": 4
}

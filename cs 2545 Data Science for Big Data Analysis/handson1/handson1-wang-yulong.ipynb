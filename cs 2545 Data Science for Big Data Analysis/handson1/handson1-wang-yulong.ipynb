{
 "cells": [
  {
   "cell_type": "markdown",
   "id": "63fa3ade",
   "metadata": {},
   "source": [
    "# Hands-on 1\n",
    "\n",
    "### CS2545 - Data Science ###\n",
    "### Fall, 2021 ###\n",
    "### UNB, Fredericton ###\n",
    "\n",
    "Please complete the following tasks per instructions provided. Please complete the following and submit this notebook (filename: handson1-**lastname**-**firstname**.ipynb) to D2L by 5 pm, September 23. \n",
    "</br>\n",
    "</br>\n",
    "</br>\n"
   ]
  },
  {
   "cell_type": "markdown",
   "id": "d7457277",
   "metadata": {},
   "source": [
    "**1.** The list *polygons_lst* below contains the names of the polygons with the number sides varied from 3 to 15. For instance, Hexagon is a polygon with number of sides 6.\n",
    "\n",
    "**1.a** Using list slicing print the last 4 entries in *polygons_lst*. \n",
    "\n",
    "\n",
    "**1.b** Write Python code that iterates over the elements of *polygons_lst* and  prints each element (i.e. string) and its string length and the number of sides.  For instance: <br>\n",
    "Triangle: 8, 3 <br>\n",
    "Square: 6, 4 <br>"
   ]
  },
  {
   "cell_type": "code",
   "execution_count": 1,
   "id": "d3f5999f",
   "metadata": {},
   "outputs": [
    {
     "name": "stdout",
     "output_type": "stream",
     "text": [
      "Dodecagon\n",
      "Tridecagon\n",
      "Tetradecagon\n",
      "Pentadecagon\n",
      "Triangle :  8 , 3\n",
      "Square :  6 , 4\n",
      "Pentagon :  8 , 5\n",
      "Hexagon :  7 , 6\n",
      "Heptagon :  8 , 7\n",
      "Octagon :  7 , 8\n",
      "Nonagon :  7 , 9\n",
      "Decagon :  7 , 10\n",
      "Hendecagon :  10 , 11\n",
      "Dodecagon :  9 , 12\n",
      "Tridecagon :  10 , 13\n",
      "Tetradecagon :  12 , 14\n",
      "Pentadecagon :  12 , 15\n"
     ]
    }
   ],
   "source": [
    "polygons_lst = ['Triangle', 'Square', 'Pentagon', 'Hexagon', 'Heptagon', 'Octagon', 'Nonagon', 'Decagon', 'Hendecagon', 'Dodecagon', 'Tridecagon', 'Tetradecagon', 'Pentadecagon']\n",
    "\n",
    "# write your code below\n",
    "\n",
    "# 1.a) \n",
    "for each in polygons_lst[-4:]:\n",
    "    print(each)\n",
    "\n",
    "\n",
    "# 1.b) \n",
    "i = 0\n",
    "for each in polygons_lst:\n",
    "    print(each,\": \",len(each),\",\",i+3)\n",
    "    i+=1\n",
    "\n"
   ]
  },
  {
   "cell_type": "markdown",
   "id": "dce4fcc3",
   "metadata": {},
   "source": [
    "**Example code**  The following code snippet uses Python graphics library Turtle. Execute the code. There will be a pop-up window where the image will be rendered.\n",
    "\n",
    "More info about Turtle library is here: https://docs.python.org/3.8/library/turtle.html"
   ]
  },
  {
   "cell_type": "code",
   "execution_count": 5,
   "id": "fbaa6251",
   "metadata": {},
   "outputs": [],
   "source": [
    "import turtle\n",
    "\n",
    "\n",
    "polygon = turtle.Turtle() \n",
    "  \n",
    "    \n",
    "side_length = 100\n",
    "angle = 360.0 / 3  \n",
    "  \n",
    "polygon.forward(side_length) \n",
    "polygon.right(angle) \n",
    "\n",
    "polygon.forward(side_length) \n",
    "polygon.right(angle) \n",
    "\n",
    "polygon.forward(side_length) \n",
    "polygon.right(angle) \n",
    "\n",
    "\n",
    "# close resources properly \n",
    "# https://stackoverflow.com/questions/7217405/turtle-graphics-not-responding\n",
    "polygon.hideturtle()\n",
    "turtle.done() \n",
    "try:\n",
    "    turtle.bye()   \n",
    "except turtle.Terminator:\n",
    "    pass"
   ]
  },
  {
   "cell_type": "markdown",
   "id": "e9124150",
   "metadata": {},
   "source": [
    "**2.** Modifying the example code above, write code to draw a polygon with the number of sides based on user input *strNS*. Here, the *strNS* is the number of sides in the polygon to draw. Your code should do the following.\n",
    "\n",
    "First, print the name of the polygon representing the polygon with number of sides based on user input (e.g. 'Square' for number of sides 4).\n",
    "\n",
    "Then, draw a polygon with the number of sides based on user input."
   ]
  },
  {
   "cell_type": "code",
   "execution_count": 2,
   "id": "d0d7fe15",
   "metadata": {},
   "outputs": [
    {
     "name": "stdin",
     "output_type": "stream",
     "text": [
      "Input number of sides: 5\n"
     ]
    },
    {
     "name": "stdout",
     "output_type": "stream",
     "text": [
      "Number of sides = 5\n",
      "The name of the polygon is:  Pentagon\n"
     ]
    }
   ],
   "source": [
    "import turtle\n",
    "\n",
    "  \n",
    "strNS = input(\"Input number of sides:\")\n",
    "num_sides = int(strNS)\n",
    "print (\"Number of sides =\", num_sides)\n",
    "if num_sides not in range (3,16):\n",
    "    print (\"Out of range\")\n",
    "else:\n",
    "    # write your code below\n",
    "    \n",
    "    # print the name of the polygon with the user specified number of sides\n",
    "    \n",
    "    print (\"The name of the polygon is: \",polygons_lst[num_sides-3])\n",
    "    \n",
    "    # draw the polygon with the user specified number of sides\n",
    "    \n",
    "    polygon = turtle.Turtle() \n",
    "    side_length = 100\n",
    "    angle = 360.0 / num_sides\n",
    "    \n",
    "    for i in range(num_sides):\n",
    "        polygon.forward(side_length) \n",
    "        polygon.right(angle) \n",
    "    \n",
    "    polygon.hideturtle()\n",
    "    turtle.done() \n",
    "    try:\n",
    "        turtle.bye()   \n",
    "    except turtle.Terminator:\n",
    "        pass\n",
    "    "
   ]
  }
 ],
 "metadata": {
  "kernelspec": {
   "display_name": "Python 3",
   "language": "python",
   "name": "python3"
  },
  "language_info": {
   "codemirror_mode": {
    "name": "ipython",
    "version": 3
   },
   "file_extension": ".py",
   "mimetype": "text/x-python",
   "name": "python",
   "nbconvert_exporter": "python",
   "pygments_lexer": "ipython3",
   "version": "3.8.8"
  }
 },
 "nbformat": 4,
 "nbformat_minor": 5
}

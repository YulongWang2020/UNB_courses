{
 "cells": [
  {
   "cell_type": "markdown",
   "metadata": {},
   "source": [
    "# Hands-on 2\n",
    "\n",
    "### CS2545 - Data Science ###\n",
    "### Fall, 2021 ###\n",
    "### UNB, Fredericton ###\n",
    "\n",
    "Please complete the following and submit this notebook (filename: handson2-**lastname**-**firstname**.ipynb) to D2L by 11:30 am, Monday, October 4. \n",
    "</br>\n",
    "</br>\n",
    "</br>"
   ]
  },
  {
   "cell_type": "markdown",
   "metadata": {},
   "source": [
    "**1.**  Download the *cereal.csv* file from D2L in the current folder. This includes information about the per serving nutritional content of a number of breakfast cereals. The columns in this file represent the following fields (detail and short) and data types: <br>\n",
    "cereal name [name] - String <br>\n",
    "manufacturer [mfr] - String <br>\n",
    "type (cold/hot) [type] - String  <br>\n",
    "calories (number) [calories] - Int <br>\n",
    "protein(g) [protein] - Int <br>\n",
    "fat(g) [fat] - Int <br>\n",
    "sodium(mg) [sodium] - Int <br>\n",
    "dietary fiber(g) [fiber] - Float <br>\n",
    "complex carbohydrates(g) [carbo] - Float <br>\n",
    "sugars(g) [sugars] -  Int <br>\n",
    "display shelf (1, 2, or 3, counting from the floor) [shelf] - Int <br>\n",
    "potassium(mg) [potass] - Int <br>\n",
    "vitamins & minerals  [vitamins] - Int <br>\n",
    "weight (in ounces) of one serving (single serving size) [weight] - Float <br>\n",
    "cups per serving [cups] - Float <br>\n",
    "rating - Float <br>\n",
    "<br>\n",
    "\n",
    "Note, the value -1 indicates missing data.\n",
    "\n",
    "Write a program to read the file and answer the following questions:\n",
    "\n",
    "**2.a** Which cereal has the most fiber (g) per serving?     \n",
    "\n",
    "**2.b** Which cereal has the least calories per serving?\n"
   ]
  },
  {
   "cell_type": "code",
   "execution_count": 19,
   "metadata": {},
   "outputs": [
    {
     "name": "stdout",
     "output_type": "stream",
     "text": [
      "(-47.0, 'Puffed Rice')\n",
      "(14.0, 'All-Bran with Extra Fiber')\n",
      "The name of the cereal with most fiber: All-Bran with Extra Fiber\n",
      "The name of the cereal with least calories: Puffed Rice\n",
      "\n",
      "\n"
     ]
    }
   ],
   "source": [
    "cereal_least_calories_name = \"\" \n",
    "cereal_most_fiber_name = \"\"\n",
    "\n",
    "# write your code below\n",
    "# start - your code\n",
    "\n",
    "import csv\n",
    "\n",
    "data = []\n",
    "with open('cereal.csv','r') as f:\n",
    "    reader = csv.DictReader(f, delimiter=';')\n",
    "    for row in reader:\n",
    "        data.append(row)\n",
    "\n",
    "cereal_least_calories_name = max([(-float(data[i]['calories']),data[i]['name']) for i in range(len(data))])[1]\n",
    "cereal_most_fiber_name = max([(float(data[i]['fiber']),data[i]['name']) for i in range(len(data))])[1]\n",
    "\n",
    "print(max([(-float(data[i]['calories']),data[i]['name']) for i in range(len(data))]))\n",
    "print(max([(float(data[i]['fiber']),data[i]['name']) for i in range(len(data))]))\n",
    "            \n",
    "\n",
    "# end - your code \n",
    "\n",
    "\n",
    "# test\n",
    "\n",
    "print (\"The name of the cereal with most fiber:\",  cereal_most_fiber_name)\n",
    "print (\"The name of the cereal with least calories:\",  cereal_least_calories_name)\n",
    "print (\"\\n\")\n"
   ]
  },
  {
   "cell_type": "markdown",
   "metadata": {},
   "source": [
    "**2.**  Download the file *ihockeychampions.json* from D2L. It contains info about the winners of the Ice Hockey World Championships from 2001 to 2021. \n",
    "\n",
    "First, open the file and deserialize it using JSON API to construct a corresponding Python object. \n",
    "\n",
    "Then,  write a program to process the data and print the years in which Finland won gold.\n"
   ]
  },
  {
   "cell_type": "code",
   "execution_count": 27,
   "metadata": {
    "scrolled": true
   },
   "outputs": [
    {
     "name": "stdout",
     "output_type": "stream",
     "text": [
      "2011\n",
      "2019\n"
     ]
    }
   ],
   "source": [
    "# write your code below\n",
    "import json\n",
    "data = {}\n",
    "with open(\"ihockeychampions.json\",\"r\") as f:\n",
    "    data = json.load(f)\n",
    "    for each in data:\n",
    "        if data[each]['gold'] == \"Finland\":\n",
    "            print(each)\n",
    "\n",
    "\n",
    "\n"
   ]
  },
  {
   "cell_type": "code",
   "execution_count": null,
   "metadata": {},
   "outputs": [],
   "source": []
  }
 ],
 "metadata": {
  "anaconda-cloud": {},
  "kernelspec": {
   "display_name": "Python 3",
   "language": "python",
   "name": "python3"
  },
  "language_info": {
   "codemirror_mode": {
    "name": "ipython",
    "version": 3
   },
   "file_extension": ".py",
   "mimetype": "text/x-python",
   "name": "python",
   "nbconvert_exporter": "python",
   "pygments_lexer": "ipython3",
   "version": "3.8.8"
  }
 },
 "nbformat": 4,
 "nbformat_minor": 4
}

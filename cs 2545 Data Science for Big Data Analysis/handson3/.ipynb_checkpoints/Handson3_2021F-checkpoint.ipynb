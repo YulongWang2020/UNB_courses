{
 "cells": [
  {
   "cell_type": "markdown",
   "metadata": {},
   "source": [
    "# Hands-on 3\n",
    "\n",
    "### CS2545 - Data Science ###\n",
    "### Fall, 2021 ###\n",
    "### UNB, Fredericton ###\n",
    "\n",
    "Please complete the following and submit this notebook (filename: handson3-**lastname**-**firstname**.ipynb) to D2L by 5:00 pm, Monday, October 18. \n",
    "</br>\n",
    "</br>\n",
    "</br>"
   ]
  },
  {
   "cell_type": "markdown",
   "metadata": {},
   "source": [
    "**Q1.**  Create a 5X5 NumPy array with random numbers. Print the element at 4th row and 4th column."
   ]
  },
  {
   "cell_type": "code",
   "execution_count": 7,
   "metadata": {},
   "outputs": [],
   "source": [
    "import numpy as np\n",
    "import random\n",
    "\n",
    "np.random.seed(987654)\n",
    "\n",
    "# your code - start\n",
    "\n"
   ]
  },
  {
   "cell_type": "markdown",
   "metadata": {},
   "source": [
    "**Q2.a** The *closing_prices* list contains some historical stock prices (closing price) of a technology company listed with NYSE. The *dates* list contains the corresponding dates.  \n",
    "\n",
    "Using list comprehension create a list *rng_prices*, which contains stock prices (closing price) that are between 125 and 135.\n",
    "\n",
    "\n",
    "**Q2.b** Create a Pandas data series  *stk_ds* from the lists *closing_prices* (as values) and *dates* (as index). Then, using a NumPy function find the median stock price."
   ]
  },
  {
   "cell_type": "code",
   "execution_count": 8,
   "metadata": {},
   "outputs": [],
   "source": [
    "import numpy as np\n",
    "\n",
    "closing_prices = [139.02, 140.85, 141.13, 145.11, 134.05, 130.55, 129.10, 130.02, 131.21, 127.20, 126.45, 124.79, 119.64, 115.40, 115.43, 116.83, 115.67, 120.06, 123.12, 124.84, 123.38, 123.54]\n",
    "\n",
    "dates = ['10/11/2018', '10/12/2018', '10/15/2018', '10/16/2018', '10/17/2018', '10/18/2018', '10/19/2018', '10/22/2018', '10/23/2018', '10/24/2018', '10/25/2018', '10/26/2018', '10/29/2018', '10/30/2018',  '10/31/2018', '11/1/2018', '11/2/2018', '11/5/2018', '11/6/2018', '11/7/2018', '11/8/2018', '11/9/2018']\n",
    "\n",
    "# Q2.a\n",
    "\n",
    "\n",
    "\n",
    "\n",
    "# Q2.b\n",
    "\n",
    "\n"
   ]
  },
  {
   "cell_type": "markdown",
   "metadata": {},
   "source": [
    "**Q3.**  Download the *cereal.csv* file from Hands-on 2. This includes information about the per serving nutritional content of a number of breakfast cereals. The columns in this file represent the following fields (detail and short) and data types: <br>\n",
    "cereal name [name] - String <br>\n",
    "manufacturer [mfr] - String <br>\n",
    "type (cold/hot) [type] - String  <br>\n",
    "calories (number) [calories] - Int <br>\n",
    "protein(g) [protein] - Int <br>\n",
    "fat(g) [fat] - Int <br>\n",
    "sodium(mg) [sodium] - Int <br>\n",
    "dietary fiber(g) [fiber] - Float <br>\n",
    "complex carbohydrates(g) [carbo] - Float <br>\n",
    "sugars(g) [sugars] -  Int <br>\n",
    "display shelf (1, 2, or 3, counting from the floor) [shelf] - Int <br>\n",
    "potassium(mg) [potass] - Int <br>\n",
    "vitamins & minerals  [vitamins] - Int <br>\n",
    "weight (in ounces) of one serving (single serving size) [weight] - Float <br>\n",
    "cups per serving [cups] - Float <br>\n",
    "rating - Float <br>\n",
    "<br>\n",
    "\n",
    "Note, the value -1 indicates missing data.\n",
    "\n",
    "\n",
    "**Q3.a** Load the data file *cereal.csv* into a dataframe *cdf* and show the first 5 rows.\n",
    "\n",
    "\n",
    "**Q3.b** Create a second dataframe  *scdf* from *cdf*, that only includes the columns *name*, *protein*,\t*fat*,\t\t*fiber*,\t*carbo*,\t*potass*,\t*vitamins*,\tand *rating*. Then show the first 5 rows of *scdf* \n",
    "\n",
    "**Q3.c** Using dataframe  *scdf* show the cereals with a rating more than 65.\n",
    "\n",
    "*Hint: you can use head() function to show first 5 rows.*"
   ]
  },
  {
   "cell_type": "code",
   "execution_count": 9,
   "metadata": {},
   "outputs": [],
   "source": [
    "import pandas as pd\n",
    "\n",
    "# Q3.a \n",
    "\n"
   ]
  },
  {
   "cell_type": "code",
   "execution_count": 10,
   "metadata": {},
   "outputs": [],
   "source": [
    "# Q3.b\n",
    "\n"
   ]
  },
  {
   "cell_type": "code",
   "execution_count": 11,
   "metadata": {},
   "outputs": [],
   "source": [
    "# Q3.c\n",
    "\n"
   ]
  }
 ],
 "metadata": {
  "anaconda-cloud": {},
  "kernelspec": {
   "display_name": "Python 3",
   "language": "python",
   "name": "python3"
  },
  "language_info": {
   "codemirror_mode": {
    "name": "ipython",
    "version": 3
   },
   "file_extension": ".py",
   "mimetype": "text/x-python",
   "name": "python",
   "nbconvert_exporter": "python",
   "pygments_lexer": "ipython3",
   "version": "3.8.8"
  }
 },
 "nbformat": 4,
 "nbformat_minor": 1
}
